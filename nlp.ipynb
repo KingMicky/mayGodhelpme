{
 "cells": [
  {
   "cell_type": "code",
   "execution_count": 81,
   "metadata": {},
   "outputs": [],
   "source": [
    "import pandas as pd\n",
    "import numpy as np\n",
    "import seaborn as sns\n",
    "import nltk"
   ]
  },
  {
   "cell_type": "code",
   "execution_count": 82,
   "metadata": {},
   "outputs": [
    {
     "data": {
      "text/html": [
       "<div>\n",
       "<style scoped>\n",
       "    .dataframe tbody tr th:only-of-type {\n",
       "        vertical-align: middle;\n",
       "    }\n",
       "\n",
       "    .dataframe tbody tr th {\n",
       "        vertical-align: top;\n",
       "    }\n",
       "\n",
       "    .dataframe thead th {\n",
       "        text-align: right;\n",
       "    }\n",
       "</style>\n",
       "<table border=\"1\" class=\"dataframe\">\n",
       "  <thead>\n",
       "    <tr style=\"text-align: right;\">\n",
       "      <th></th>\n",
       "      <th>name</th>\n",
       "      <th>rating</th>\n",
       "      <th>comments</th>\n",
       "      <th>date_of_experience</th>\n",
       "    </tr>\n",
       "  </thead>\n",
       "  <tbody>\n",
       "    <tr>\n",
       "      <th>0</th>\n",
       "      <td>D And</td>\n",
       "      <td>5 reviews</td>\n",
       "      <td>I booked a car for a destination but had a 16 ...</td>\n",
       "      <td>18-Dec-22</td>\n",
       "    </tr>\n",
       "    <tr>\n",
       "      <th>1</th>\n",
       "      <td>smart boy</td>\n",
       "      <td>1 review</td>\n",
       "      <td>I have to ask why company select like this peo...</td>\n",
       "      <td>1-Jan-23</td>\n",
       "    </tr>\n",
       "    <tr>\n",
       "      <th>2</th>\n",
       "      <td>Tom</td>\n",
       "      <td>1 review</td>\n",
       "      <td>My Bolt driver demanded cash from us for the l...</td>\n",
       "      <td>1-Jan-23</td>\n",
       "    </tr>\n",
       "    <tr>\n",
       "      <th>3</th>\n",
       "      <td>Maria M</td>\n",
       "      <td>1 review</td>\n",
       "      <td>The drive took me to another address and did n...</td>\n",
       "      <td>30-Dec-22</td>\n",
       "    </tr>\n",
       "    <tr>\n",
       "      <th>4</th>\n",
       "      <td>Luke Thurston</td>\n",
       "      <td>2 reviews</td>\n",
       "      <td>Charged me double!\\n\\nAwful company took my gi...</td>\n",
       "      <td>28-Dec-22</td>\n",
       "    </tr>\n",
       "  </tbody>\n",
       "</table>\n",
       "</div>"
      ],
      "text/plain": [
       "            name     rating  \\\n",
       "0          D And  5 reviews   \n",
       "1      smart boy   1 review   \n",
       "2            Tom   1 review   \n",
       "3        Maria M   1 review   \n",
       "4  Luke Thurston  2 reviews   \n",
       "\n",
       "                                            comments date_of_experience  \n",
       "0  I booked a car for a destination but had a 16 ...          18-Dec-22  \n",
       "1  I have to ask why company select like this peo...           1-Jan-23  \n",
       "2  My Bolt driver demanded cash from us for the l...           1-Jan-23  \n",
       "3  The drive took me to another address and did n...          30-Dec-22  \n",
       "4  Charged me double!\\n\\nAwful company took my gi...          28-Dec-22  "
      ]
     },
     "execution_count": 82,
     "metadata": {},
     "output_type": "execute_result"
    }
   ],
   "source": [
    "set = pd.read_csv(f\"../AI seminar/dataset/1.csv\", encoding= 'unicode_escape')\n",
    "set.head()"
   ]
  },
  {
   "cell_type": "code",
   "execution_count": 83,
   "metadata": {},
   "outputs": [
    {
     "data": {
      "text/plain": [
       "name                  0\n",
       "rating                0\n",
       "comments              0\n",
       "date_of_experience    0\n",
       "dtype: int64"
      ]
     },
     "execution_count": 83,
     "metadata": {},
     "output_type": "execute_result"
    }
   ],
   "source": [
    "set.isnull().sum()"
   ]
  },
  {
   "cell_type": "code",
   "execution_count": 84,
   "metadata": {},
   "outputs": [
    {
     "data": {
      "text/plain": [
       "<AxesSubplot:>"
      ]
     },
     "execution_count": 84,
     "metadata": {},
     "output_type": "execute_result"
    },
    {
     "data": {
      "image/png": "[encoded data removed]",
      "text/plain": [
       "<Figure size 640x480 with 2 Axes>"
      ]
     },
     "metadata": {},
     "output_type": "display_data"
    }
   ],
   "source": [
    "sns.heatmap(set.isnull(), yticklabels=False)"
   ]
  },
  {
   "cell_type": "code",
   "execution_count": 85,
   "metadata": {},
   "outputs": [
    {
     "data": {
      "text/html": [
       "<div>\n",
       "<style scoped>\n",
       "    .dataframe tbody tr th:only-of-type {\n",
       "        vertical-align: middle;\n",
       "    }\n",
       "\n",
       "    .dataframe tbody tr th {\n",
       "        vertical-align: top;\n",
       "    }\n",
       "\n",
       "    .dataframe thead th {\n",
       "        text-align: right;\n",
       "    }\n",
       "</style>\n",
       "<table border=\"1\" class=\"dataframe\">\n",
       "  <thead>\n",
       "    <tr style=\"text-align: right;\">\n",
       "      <th></th>\n",
       "      <th>name</th>\n",
       "      <th>rating</th>\n",
       "      <th>comments</th>\n",
       "      <th>date_of_experience</th>\n",
       "    </tr>\n",
       "  </thead>\n",
       "  <tbody>\n",
       "    <tr>\n",
       "      <th>0</th>\n",
       "      <td>D And</td>\n",
       "      <td>5 reviews</td>\n",
       "      <td>I booked a car for a destination but had a 16 ...</td>\n",
       "      <td>18-Dec-22</td>\n",
       "    </tr>\n",
       "    <tr>\n",
       "      <th>1</th>\n",
       "      <td>smart boy</td>\n",
       "      <td>1 review</td>\n",
       "      <td>I have to ask why company select like this peo...</td>\n",
       "      <td>1-Jan-23</td>\n",
       "    </tr>\n",
       "    <tr>\n",
       "      <th>2</th>\n",
       "      <td>Tom</td>\n",
       "      <td>1 review</td>\n",
       "      <td>My Bolt driver demanded cash from us for the l...</td>\n",
       "      <td>1-Jan-23</td>\n",
       "    </tr>\n",
       "    <tr>\n",
       "      <th>3</th>\n",
       "      <td>Maria M</td>\n",
       "      <td>1 review</td>\n",
       "      <td>The drive took me to another address and did n...</td>\n",
       "      <td>30-Dec-22</td>\n",
       "    </tr>\n",
       "    <tr>\n",
       "      <th>4</th>\n",
       "      <td>Luke Thurston</td>\n",
       "      <td>2 reviews</td>\n",
       "      <td>Charged me double!\\n\\nAwful company took my gi...</td>\n",
       "      <td>28-Dec-22</td>\n",
       "    </tr>\n",
       "    <tr>\n",
       "      <th>5</th>\n",
       "      <td>Rohit Pradeep</td>\n",
       "      <td>1 review</td>\n",
       "      <td>The price for the trip was £115 while I was tr...</td>\n",
       "      <td>1-Jan-23</td>\n",
       "    </tr>\n",
       "    <tr>\n",
       "      <th>6</th>\n",
       "      <td>Manjinder Rai</td>\n",
       "      <td>3 reviews</td>\n",
       "      <td>The worst driver and the worst customer servic...</td>\n",
       "      <td>27-Dec-22</td>\n",
       "    </tr>\n",
       "    <tr>\n",
       "      <th>7</th>\n",
       "      <td>Salman Kaleem</td>\n",
       "      <td>3 reviews</td>\n",
       "      <td>My wife booked a ride from st Marty's hospital...</td>\n",
       "      <td>28-Dec-22</td>\n",
       "    </tr>\n",
       "    <tr>\n",
       "      <th>8</th>\n",
       "      <td>Andrew Mcloughlin</td>\n",
       "      <td>1 review</td>\n",
       "      <td>Absolute waste of time booked on the App in Bi...</td>\n",
       "      <td>28-Dec-22</td>\n",
       "    </tr>\n",
       "    <tr>\n",
       "      <th>9</th>\n",
       "      <td>Emma</td>\n",
       "      <td>1 review</td>\n",
       "      <td>Scam! The driver asked me to cancel the ride a...</td>\n",
       "      <td>9-Dec-22</td>\n",
       "    </tr>\n",
       "    <tr>\n",
       "      <th>10</th>\n",
       "      <td>Yulia Komarova</td>\n",
       "      <td>3 reviews</td>\n",
       "      <td>Fraudulent. Appaling service from both drivers...</td>\n",
       "      <td>20-Dec-22</td>\n",
       "    </tr>\n",
       "    <tr>\n",
       "      <th>11</th>\n",
       "      <td>Lewis K</td>\n",
       "      <td>12 reviews</td>\n",
       "      <td>We needed a cab ride to the pub and back. Firs...</td>\n",
       "      <td>27-Dec-22</td>\n",
       "    </tr>\n",
       "    <tr>\n",
       "      <th>12</th>\n",
       "      <td>Miklós Bendegúz Gergye</td>\n",
       "      <td>12 reviews</td>\n",
       "      <td>I use Bolt once in a month in Budapest and som...</td>\n",
       "      <td>10-Dec-22</td>\n",
       "    </tr>\n",
       "    <tr>\n",
       "      <th>13</th>\n",
       "      <td>Karthikeyan</td>\n",
       "      <td>3 reviews</td>\n",
       "      <td>Since we have to put 1 star minimum, I am keep...</td>\n",
       "      <td>26-Dec-22</td>\n",
       "    </tr>\n",
       "    <tr>\n",
       "      <th>14</th>\n",
       "      <td>Elizabeth</td>\n",
       "      <td>14 reviews</td>\n",
       "      <td>Only time I used them the driver drove away af...</td>\n",
       "      <td>22-Dec-22</td>\n",
       "    </tr>\n",
       "    <tr>\n",
       "      <th>15</th>\n",
       "      <td>Ilona Sliacina</td>\n",
       "      <td>1 review</td>\n",
       "      <td>Absolutely fraudulent.\\nWhy would someone char...</td>\n",
       "      <td>23-Dec-22</td>\n",
       "    </tr>\n",
       "    <tr>\n",
       "      <th>16</th>\n",
       "      <td>Tia</td>\n",
       "      <td>6 reviews</td>\n",
       "      <td>I am so sick and tired of drivers cancelling a...</td>\n",
       "      <td>21-Dec-22</td>\n",
       "    </tr>\n",
       "    <tr>\n",
       "      <th>17</th>\n",
       "      <td>Valerie Tooke</td>\n",
       "      <td>2 reviews</td>\n",
       "      <td>Ordered a ride with them yesterday ( Xmas Eve ...</td>\n",
       "      <td>25-Dec-22</td>\n",
       "    </tr>\n",
       "    <tr>\n",
       "      <th>18</th>\n",
       "      <td>Diana Umryan</td>\n",
       "      <td>4 reviews</td>\n",
       "      <td>Driver are cheating on passengers .\\nDriver bl...</td>\n",
       "      <td>13-Dec-22</td>\n",
       "    </tr>\n",
       "    <tr>\n",
       "      <th>19</th>\n",
       "      <td>Dasha Bushujeva</td>\n",
       "      <td>1 review</td>\n",
       "      <td>Im highly disappointed with how careless bolt...</td>\n",
       "      <td>28-Dec-22</td>\n",
       "    </tr>\n",
       "  </tbody>\n",
       "</table>\n",
       "</div>"
      ],
      "text/plain": [
       "                      name      rating  \\\n",
       "0                    D And   5 reviews   \n",
       "1                smart boy    1 review   \n",
       "2                      Tom    1 review   \n",
       "3                  Maria M    1 review   \n",
       "4            Luke Thurston   2 reviews   \n",
       "5            Rohit Pradeep    1 review   \n",
       "6            Manjinder Rai   3 reviews   \n",
       "7            Salman Kaleem   3 reviews   \n",
       "8        Andrew Mcloughlin    1 review   \n",
       "9                     Emma    1 review   \n",
       "10          Yulia Komarova   3 reviews   \n",
       "11                 Lewis K  12 reviews   \n",
       "12  Miklós Bendegúz Gergye  12 reviews   \n",
       "13             Karthikeyan   3 reviews   \n",
       "14               Elizabeth  14 reviews   \n",
       "15          Ilona Sliacina    1 review   \n",
       "16                     Tia   6 reviews   \n",
       "17           Valerie Tooke   2 reviews   \n",
       "18            Diana Umryan   4 reviews   \n",
       "19         Dasha Bushujeva    1 review   \n",
       "\n",
       "                                             comments date_of_experience  \n",
       "0   I booked a car for a destination but had a 16 ...          18-Dec-22  \n",
       "1   I have to ask why company select like this peo...           1-Jan-23  \n",
       "2   My Bolt driver demanded cash from us for the l...           1-Jan-23  \n",
       "3   The drive took me to another address and did n...          30-Dec-22  \n",
       "4   Charged me double!\\n\\nAwful company took my gi...          28-Dec-22  \n",
       "5   The price for the trip was £115 while I was tr...           1-Jan-23  \n",
       "6   The worst driver and the worst customer servic...          27-Dec-22  \n",
       "7   My wife booked a ride from st Marty's hospital...          28-Dec-22  \n",
       "8   Absolute waste of time booked on the App in Bi...          28-Dec-22  \n",
       "9   Scam! The driver asked me to cancel the ride a...           9-Dec-22  \n",
       "10  Fraudulent. Appaling service from both drivers...          20-Dec-22  \n",
       "11  We needed a cab ride to the pub and back. Firs...          27-Dec-22  \n",
       "12  I use Bolt once in a month in Budapest and som...          10-Dec-22  \n",
       "13  Since we have to put 1 star minimum, I am keep...          26-Dec-22  \n",
       "14  Only time I used them the driver drove away af...          22-Dec-22  \n",
       "15  Absolutely fraudulent.\\nWhy would someone char...          23-Dec-22  \n",
       "16  I am so sick and tired of drivers cancelling a...          21-Dec-22  \n",
       "17  Ordered a ride with them yesterday ( Xmas Eve ...          25-Dec-22  \n",
       "18  Driver are cheating on passengers .\\nDriver bl...          13-Dec-22  \n",
       "19  Im highly disappointed with how careless bolt...          28-Dec-22  "
      ]
     },
     "execution_count": 85,
     "metadata": {},
     "output_type": "execute_result"
    }
   ],
   "source": [
    "set.dropna()"
   ]
  },
  {
   "cell_type": "code",
   "execution_count": null,
   "metadata": {},
   "outputs": [
    {
     "data": {
      "text/html": [
       "<div>\n",
       "<style scoped>\n",
       "    .dataframe tbody tr th:only-of-type {\n",
       "        vertical-align: middle;\n",
       "    }\n",
       "\n",
       "    .dataframe tbody tr th {\n",
       "        vertical-align: top;\n",
       "    }\n",
       "\n",
       "    .dataframe thead th {\n",
       "        text-align: right;\n",
       "    }\n",
       "</style>\n",
       "<table border=\"1\" class=\"dataframe\">\n",
       "  <thead>\n",
       "    <tr style=\"text-align: right;\">\n",
       "      <th></th>\n",
       "      <th>name</th>\n",
       "      <th>rating</th>\n",
       "      <th>comments</th>\n",
       "      <th>date_of_experience</th>\n",
       "    </tr>\n",
       "  </thead>\n",
       "  <tbody>\n",
       "    <tr>\n",
       "      <th>count</th>\n",
       "      <td>20</td>\n",
       "      <td>20</td>\n",
       "      <td>20</td>\n",
       "      <td>20</td>\n",
       "    </tr>\n",
       "    <tr>\n",
       "      <th>unique</th>\n",
       "      <td>20</td>\n",
       "      <td>8</td>\n",
       "      <td>20</td>\n",
       "      <td>14</td>\n",
       "    </tr>\n",
       "    <tr>\n",
       "      <th>top</th>\n",
       "      <td>D And</td>\n",
       "      <td>1 review</td>\n",
       "      <td>I booked a car for a destination but had a 16 ...</td>\n",
       "      <td>28-Dec-22</td>\n",
       "    </tr>\n",
       "    <tr>\n",
       "      <th>freq</th>\n",
       "      <td>1</td>\n",
       "      <td>8</td>\n",
       "      <td>1</td>\n",
       "      <td>4</td>\n",
       "    </tr>\n",
       "  </tbody>\n",
       "</table>\n",
       "</div>"
      ],
      "text/plain": [
       "         name    rating                                           comments  \\\n",
       "count      20        20                                                 20   \n",
       "unique     20         8                                                 20   \n",
       "top     D And  1 review  I booked a car for a destination but had a 16 ...   \n",
       "freq        1         8                                                  1   \n",
       "\n",
       "       date_of_experience  \n",
       "count                  20  \n",
       "unique                 14  \n",
       "top             28-Dec-22  \n",
       "freq                    4  "
      ]
     },
     "execution_count": 55,
     "metadata": {},
     "output_type": "execute_result"
    }
   ],
   "source": [
    "set.describe()"
   ]
  },
  {
   "cell_type": "code",
   "execution_count": null,
   "metadata": {},
   "outputs": [
    {
     "name": "stderr",
     "output_type": "stream",
     "text": [
      "[nltk_data] Downloading package vader_lexicon to\n",
      "[nltk_data]     C:\\Users\\kachi\\AppData\\Roaming\\nltk_data...\n"
     ]
    }
   ],
   "source": [
    "nltk.download('vader_lexicon')\n",
    "from nltk.sentiment.vader import SentimentIntensityAnalyzer"
   ]
  },
  {
   "cell_type": "code",
   "execution_count": null,
   "metadata": {},
   "outputs": [],
   "source": [
    "reviews = set['comments']"
   ]
  },
  {
   "cell_type": "code",
   "execution_count": null,
   "metadata": {},
   "outputs": [],
   "source": [
    "sia = SentimentIntensityAnalyzer()\n",
    "sentiments = []\n",
    "for review in reviews:\n",
    "    sentiment = sia.polarity_scores(review)\n",
    "    sentiments.append(sentiment)"
   ]
  },
  {
   "cell_type": "code",
   "execution_count": null,
   "metadata": {},
   "outputs": [],
   "source": [
    "set_sentiments = pd.DataFrame(sentiments)"
   ]
  },
  {
   "cell_type": "code",
   "execution_count": null,
   "metadata": {},
   "outputs": [],
   "source": [
    "positive_count = set_sentiments[set_sentiments['compound'] > 0.5].shape[0]\n",
    "negative_count = set_sentiments[set_sentiments['compound'] < -0.5].shape[0]\n",
    "neutral_count = set_sentiments[(set_sentiments['compound'] >= -0.5) & (set_sentiments['compound'] <= 0.5)].shape[0]"
   ]
  },
  {
   "cell_type": "code",
   "execution_count": null,
   "metadata": {},
   "outputs": [
    {
     "name": "stdout",
     "output_type": "stream",
     "text": [
      "Positive reviews: 2\n",
      "Negative reviews: 12\n",
      "Neutral reviews: 6\n"
     ]
    }
   ],
   "source": [
    "print(\"Positive reviews:\", positive_count)\n",
    "print(\"Negative reviews:\", negative_count)\n",
    "print(\"Neutral reviews:\", neutral_count)"
   ]
  }
 ],
 "metadata": {
  "kernelspec": {
   "display_name": "base",
   "language": "python",
   "name": "python3"
  },
  "language_info": {
   "codemirror_mode": {
    "name": "ipython",
    "version": 3
   },
   "file_extension": ".py",
   "mimetype": "text/x-python",
   "name": "python",
   "nbconvert_exporter": "python",
   "pygments_lexer": "ipython3",
   "version": "3.9.13"
  },
  "orig_nbformat": 4,
  "vscode": {
   "interpreter": {
    "hash": "987ac5f62353e9f5165e149cca531569a9db7ed640d1d671c62177d00eba8c47"
   }
  }
 },
 "nbformat": 4,
 "nbformat_minor": 2
}
